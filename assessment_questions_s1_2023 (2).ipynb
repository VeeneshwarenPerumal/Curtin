{
  "nbformat": 4,
  "nbformat_minor": 0,
  "metadata": {
    "colab": {
      "private_outputs": true,
      "provenance": []
    },
    "kernelspec": {
      "name": "python3",
      "display_name": "Python 3"
    },
    "language_info": {
      "name": "python"
    }
  },
  "cells": [
    {
      "cell_type": "markdown",
      "source": [
        "<center>\n",
        "\n",
        "# Extended Learning Portfolio\n",
        "\n",
        "**ISYS2001 Introduction to Business Programming**\n",
        "\n",
        "<small>School of Management\n",
        "\n",
        "Semester 1 2023\n",
        "</small>\n",
        "</center>\n",
        "\n",
        "This examination is an open-book format. You are permitted to utilise a variety of resources, including textbooks, web content, and AI tools, to complete the exam. However, it's important to note that all work submitted must be your own. Any work or ideas not your own must be properly referenced. \n",
        "\n",
        "Please refrain from discussing your responses to these questions with fellow students. If you have any inquiries about the questions about this assessment, please contact the instructor directly.  Any questions submitted to the instructor concerning this assesment will have the question and responses will be posted to this discussion forum.  \n",
        "\n",
        "The examination duration is a total of 24 hours. This time frame begins at the predetermined exam start time and does not depend on when you commence the download. If you have accommodations under a CAP arrangement, the duration of the exam will be adjusted accordingly. If you feel that your CAP accommodations have not been satisfactorily implemented, please reach out to me immediately.\n",
        "\n",
        "This examination consists of four questions in total, and you are required to provide answers to all of them. Each question should be contained within its own notebook, with the exception of Question Four, which can be compiled in a Microsoft Word document. To submit your answers, please establish a private GitHub repository and upload all of your responses to the designated questions, inclusive of the Word document for Question Four, to this repository.\n",
        "\n",
        "Upon completion of all the questions, proceed to download the zip file of your GitHub repository. This file should be submitted via the link provided on Blackboard. Additionally, a separate submission of the Word document for Question Four must be made through the Turnitin link available on Blackboard."
      ],
      "metadata": {
        "id": "1M9yB5U0yefZ"
      }
    },
    {
      "cell_type": "markdown",
      "source": [
        "# Question 1\n",
        "\n",
        "Write a Python program within this or another notebook that performs advanced file analysis. The program should prompt the user to enter the path to a text file and allow them to choose from various analysis options:\n",
        "\n",
        "* Counting the number of lines.\n",
        "* Counting the total number of words.\n",
        "* Counting the total number of characters, both including and excluding whitespace.\n",
        "* Identifying the frequency of each word in the text.\n",
        "* Identifying the top 5 most common words in the text.\n",
        "\n",
        "After receiving the user input, your program should read the file and perform the chosen analysis, outputting the results in a clear, human-readable format.\n",
        "\n",
        "*Question subparts:*\n",
        "\n",
        "1. Implement the notebook program as described above. Your program should be robust and handle possible edge cases, such as file not found or incorrect input from the user.\n",
        "2. Write a brief description of your program, explaining how to use it and what each analysis option does. This description should be written as if for other developers or users who might use your tool.\n",
        "3. Write a few test cases to validate your tool. Consider edge cases such as empty files, very large files, files with unusual characters, and so on.\n",
        "4. Discuss how you would modify your tool to analyze binary files, or large files that do not fit into memory. What kind of analysis could be useful in these cases?\n",
        "5. Provide a few example text files and show the output of your program when run with these files.\n",
        "\n",
        "Remember to include necessary error handling in your program to make it robust and reliable.\n",
        "\n",
        "**[40 Marks]**"
      ],
      "metadata": {
        "id": "w3Y-At852J91"
      }
    },
    {
      "cell_type": "code",
      "execution_count": null,
      "metadata": {
        "id": "F6DXwieOyV39"
      },
      "outputs": [],
      "source": [
        "import os"
      ]
    },
    {
      "cell_type": "code",
      "source": [
        "import string"
      ],
      "metadata": {
        "id": "3tXj4NSe2RMy"
      },
      "execution_count": null,
      "outputs": []
    },
    {
      "cell_type": "code",
      "source": [
        "from collections import Counter"
      ],
      "metadata": {
        "id": "9CInOG5W2RJX"
      },
      "execution_count": null,
      "outputs": []
    },
    {
      "cell_type": "code",
      "source": [
        "def count_lines(file_path):\n",
        "    try:\n",
        "        with open(file_path, 'r') as file:\n",
        "            line_count = sum(1 for _ in file)\n",
        "            print(f\"Number of lines: {line_count}\")\n",
        "    except FileNotFoundError:\n",
        "        print(\"File not found.\")\n",
        "\n",
        "def count_words(file_path):\n",
        "    try:\n",
        "        with open(file_path, 'r') as file:\n",
        "            word_count = 0\n",
        "            for line in file:\n",
        "                words = line.split()\n",
        "                word_count += len(words)\n",
        "            print(f\"Number of words: {word_count}\")\n",
        "    except FileNotFoundError:\n",
        "        print(\"File not found.\")\n",
        "\n",
        "def count_characters(file_path, include_whitespace=True):\n",
        "    try:\n",
        "        with open(file_path, 'r') as file:\n",
        "            if include_whitespace:\n",
        "                content = file.read()\n",
        "                char_count = len(content)\n",
        "            else:\n",
        "                content = file.read().replace(\" \", \"\").replace(\"\\n\", \"\")\n",
        "                char_count = len(content)\n",
        "            print(f\"Number of characters (including whitespace): {char_count}\")\n",
        "    except FileNotFoundError:\n",
        "        print(\"File not found.\")\n",
        "\n",
        "def word_frequency(file_path):\n",
        "    try:\n",
        "        with open(file_path, 'r') as file:\n",
        "            content = file.read()\n",
        "            words = content.split()\n",
        "            word_count = Counter(words)\n",
        "            print(\"Word frequency:\")\n",
        "            for word, count in word_count.items():\n",
        "                print(f\"{word}: {count}\")\n",
        "    except FileNotFoundError:\n",
        "        print(\"File not found.\")\n",
        "\n",
        "def top_common_words(file_path, num_words=5):\n",
        "    try:\n",
        "        with open(file_path, 'r') as file:\n",
        "            content = file.read()\n",
        "            words = content.split()\n",
        "            word_count = Counter(words)\n",
        "            common_words = word_count.most_common(num_words)\n",
        "            print(f\"Top {num_words} most common words:\")\n",
        "            for word, count in common_words:\n",
        "                print(f\"{word}: {count}\")\n",
        "    except FileNotFoundError:\n",
        "        print(\"File not found.\")\n",
        "\n",
        "def analyze_file(file_path):\n",
        "    if not os.path.isfile(file_path):\n",
        "        print(\"Invalid file path.\")\n",
        "        return\n",
        "\n",
        "    print(f\"Analyzing file: {file_path}\\n\")\n",
        "    print(\"Choose an analysis option:\")\n",
        "    print(\"1. Count the number of lines.\")\n",
        "    print(\"2. Count the total number of words.\")\n",
        "    print(\"3. Count the total number of characters (including whitespace).\")\n",
        "    print(\"4. Count the total number of characters (excluding whitespace).\")\n",
        "    print(\"5. Identify the frequency of each word in the text.\")\n",
        "    print(\"6. Identify the top 5 most common words in the text.\")\n",
        "\n",
        "    option = input(\"Enter the number corresponding to your choice: \")\n",
        "    print()\n",
        "\n",
        "    if option == '1':\n",
        "        count_lines(file_path)\n",
        "    elif option == '2':\n",
        "        count_words(file_path)\n",
        "    elif option == '3':\n",
        "        count_characters(file_path, include_whitespace=True)\n",
        "    elif option == '4':\n",
        "        count_characters(file_path, include_whitespace=False)\n",
        "    elif option == '5':\n",
        "        word_frequency(file_path)\n",
        "    elif option == '6':\n",
        "        top_common_words(file_path)\n",
        "    else:\n",
        "        print(\"Invalid option.\")"
      ],
      "metadata": {
        "id": "jc7c66Kt2RG8"
      },
      "execution_count": null,
      "outputs": []
    },
    {
      "cell_type": "code",
      "source": [],
      "metadata": {
        "id": "Rpc7sjBo22yW"
      },
      "execution_count": null,
      "outputs": []
    },
    {
      "cell_type": "markdown",
      "source": [
        "# Question 2\n",
        "\n",
        "**Question:**\n",
        "\n",
        "As a new junior developer at EcommEasy, an e-commerce platform company, you're assigned to debug and refactor a piece of code left by one of the departed team members. This code is meant to determine if a customer is eligible for a certain promotional discount based on their total order value.\n",
        "\n",
        "Unfortunately, the code is obfuscated, lacks documentation, and doesn't function as expected. Your task is to identify the error, correct it, and refactor the code according to the best industry practices, which include clear variable naming, detailed comments, error handling, and overall code readability. \n",
        "\n",
        "Here is the problematic code:\n",
        "\n",
        "```python\n",
        "def promo(o):\n",
        "    p = None\n",
        "    if o > 50 and o < 100:\n",
        "        p = 5\n",
        "    elif o > 100:\n",
        "        p = 10\n",
        "    else:\n",
        "        p = 0\n",
        "    if o <= 0 or o is None:\n",
        "        raise ValueError(\"Order value not valid!\")\n",
        "    return o*(p/100)\n",
        "```\n",
        "\n",
        "*Question subparts:*\n",
        "\n",
        "1. What is the error in the above code and why does it fail to calculate the promotional discount correctly?\n",
        "2. How would you correct the error?\n",
        "3. How would you refactor this code to align it with industry best practices? Write the refactored code within this or another notebook. Please include appropriate variable names, comments, error handling, and a basic explanation of the code for a layperson.\n",
        "4. Write a few test cases to confirm the code is functioning as expected.\n",
        "\n",
        "Hint: The promo function is supposed to apply a 5% discount if the order total is between \\$50 and \\$100 (inclusive), and a 10% discount if the order total exceeds \\$100. Orders less than or equal to \\$0 or null should raise an exception.\n",
        "\n",
        "**[20 Marks]**"
      ],
      "metadata": {
        "id": "yYD1q2Mx95vB"
      }
    },
    {
      "cell_type": "code",
      "source": [
        "def calculate_promotional_discount(order_value):\n",
        "    \"\"\"\n",
        "    Calculates the promotional discount based on the order value.\n",
        "\n",
        "    Args:\n",
        "        order_value (float): The total value of the customer's order.\n",
        "\n",
        "    Returns:\n",
        "        float: The promotional discount amount.\n",
        "\n",
        "    Raises:\n",
        "        ValueError: If the order value is less than or equal to 0 or None.\n",
        "\n",
        "    Example:\n",
        "        calculate_promotional_discount(75.0)\n",
        "        Output: 3.75\n",
        "    \"\"\"\n",
        "    if order_value is None or order_value <= 0:\n",
        "        raise ValueError(\"Invalid order value! The order value must be greater than 0.\")\n",
        "\n",
        "    discount_percentage = 0.0\n",
        "    if order_value >= 50 and order_value <= 100:\n",
        "        discount_percentage = 5.0\n",
        "    elif order_value > 100:\n",
        "        discount_percentage = 10.0\n",
        "\n",
        "    promotional_discount = order_value * (discount_percentage / 100.0)\n",
        "    return promotional_discount\n"
      ],
      "metadata": {
        "id": "1mRr2dm5O_I7"
      },
      "execution_count": null,
      "outputs": []
    },
    {
      "cell_type": "code",
      "source": [
        "# Test case 1: Order value within the $50-$100 range\n",
        "order_value = 75.0\n",
        "discount = calculate_promotional_discount(order_value)\n",
        "print(f\"Order value: {order_value}, Promotional discount: {discount}\")\n",
        "# Output: Order value: 75.0, Promotional discount: 3.75\n",
        "\n",
        "# Test case 2: Order value exceeding $100\n",
        "order_value = 150.0\n",
        "discount = calculate_promotional_discount(order_value)\n",
        "print(f\"Order value: {order_value}, Promotional discount: {discount}\")\n",
        "# Output: Order value: 150.0, Promotional discount: 15.0\n",
        "\n",
        "# Test case 3: Order value less than or equal to $0\n",
        "order_value = 0.0\n",
        "try:\n",
        "    discount = calculate_promotional_discount(order_value)\n",
        "    print(f\"Order value: {order_value}, Promotional discount: {discount}\")\n",
        "except ValueError as e:\n",
        "    print(f\"Error: {str(e)}\")\n",
        "# Output: Error: Invalid order value! The order value must be greater than 0.\n",
        "\n",
        "# Test case 4: Order value is None\n",
        "order_value = None\n",
        "try:\n",
        "    discount = calculate_promotional_discount(order_value)\n",
        "    print(f\"Order value: {order_value}, Promotional discount: {discount}\")\n",
        "except ValueError as e:\n",
        "    print(f\"Error: {str(e)}\")\n",
        "# Output: Error: Invalid order value! The order value must be greater than 0.\n"
      ],
      "metadata": {
        "id": "2puhaqMgPZOI"
      },
      "execution_count": null,
      "outputs": []
    },
    {
      "cell_type": "markdown",
      "source": [
        "# Question 3\n",
        "\n",
        "You have been given a task to develop a simple script that extracts news articles' title and text from a list of URLs. Your company, DataScrapr, is working on a project to analyze the sentiment of news articles from several news outlets and this task is the first step in the data collection process.\n",
        "\n",
        "The task requires you to use Python, along with the `Newspaper3k` library, which is a simple and efficient tool for extracting and curating articles.\n",
        "\n",
        "Here is your task:\n",
        "\n",
        "1. Write a Python script that takes a list of URLs as input. Each URL points to a news article.\n",
        "2. For each URL, your script should extract the article's title and the full text of the article.\n",
        "3. The output of your script should be a list of dictionaries. Each dictionary should contain the URL, the article title, and the article text.\n",
        "4. Include error checking in your script to handle possible issues with the URLs or the extraction process. \n",
        "\n",
        "*Question subparts:*\n",
        "\n",
        "1. Implement the above-described script.\n",
        "2. Explain how your script works and the role of the `Newspaper3k` library in the script.\n",
        "3. How would you handle potential issues, such as a URL that doesn't point to a valid article or network errors?\n",
        "4. Provide a few example URLs and show the output of your script when run with these URLs.\n",
        "\n",
        "Note: Please be mindful of the terms of use for any website you are scraping, and make sure to respect the website's robots.txt file.\n",
        "\n",
        "**[25 marks]**"
      ],
      "metadata": {
        "id": "YaDX0dOQA_py"
      }
    },
    {
      "cell_type": "code",
      "source": [
        "pip install newspaper3k\n"
      ],
      "metadata": {
        "id": "q59HN9QPQEUC"
      },
      "execution_count": null,
      "outputs": []
    },
    {
      "cell_type": "code",
      "source": [
        "import newspaper\n",
        "from newspaper import Article\n",
        "from newspaper import Config\n",
        "\n",
        "def extract_articles(urls):\n",
        "    articles = []\n",
        "\n",
        "    # Customizing the configuration to handle potential issues\n",
        "    config = Config()\n",
        "    config.keep_article_html = True  # Keeps the raw HTML of the articles\n",
        "\n",
        "    for url in urls:\n",
        "        try:\n",
        "            article = Article(url, config=config)\n",
        "            article.download()  # Download the article's HTML content\n",
        "            article.parse()  # Parse the article's content\n",
        "            article.nlp()  # Apply natural language processing\n",
        "\n",
        "            article_data = {\n",
        "                'url': url,\n",
        "                'title': article.title,\n",
        "                'text': article.text\n",
        "            }\n",
        "\n",
        "            articles.append(article_data)\n",
        "        except Exception as e:\n",
        "            print(f\"Error processing URL: {url}\")\n",
        "            print(str(e))\n",
        "            print()\n",
        "\n",
        "    return articles\n"
      ],
      "metadata": {
        "id": "KSIbF1zFO9O4"
      },
      "execution_count": null,
      "outputs": []
    },
    {
      "cell_type": "markdown",
      "source": [
        "# Question 4\n",
        "\n",
        "Write a reflective report that identifies and discusses what you perceive as the most impactful activity within this course unit, and its contributions to your understanding of an ISYS2001 activity or topic. **Additionally, please incorporate all your weekly journal entries as an appendix to this report.** The report should be prepared in a Microsoft Word document, which will be submitted via the TurnItin link available on Blackboard.\n",
        "\n",
        "**[15 marks]**"
      ],
      "metadata": {
        "id": "YQ0itNBkCClk"
      }
    },
    {
      "cell_type": "code",
      "source": [],
      "metadata": {
        "id": "1MRfZlWQCB_X"
      },
      "execution_count": null,
      "outputs": []
    }
  ]
}